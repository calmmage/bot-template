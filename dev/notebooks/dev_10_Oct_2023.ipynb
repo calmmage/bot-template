{
 "cells": [
  {
   "cell_type": "code",
   "execution_count": null,
   "id": "initial_id",
   "metadata": {
    "collapsed": true
   },
   "outputs": [],
   "source": [
    "# step 0 - launch something. Launch simple empty bot\n",
    "# - just click \"run\" \n",
    "# - test '/uptime' command\n",
    "# - \n",
    "# step 1 - generate ideas, what could I do?\n"
   ]
  },
  {
   "cell_type": "code",
   "execution_count": null,
   "outputs": [],
   "source": [
    "# what were the features I wanted to add?"
   ],
   "metadata": {
    "collapsed": false
   },
   "id": "d275a4403a0c8ebf"
  },
  {
   "cell_type": "code",
   "execution_count": null,
   "outputs": [],
   "source": [
    "# Narrative 1: GPT Engine\n",
    "# - Limit tokens\n",
    "# - integrate with LLM tester\n",
    "# - Request \n",
    "# - Log all to db ->\n",
    "# - presets, templates (access through shortcuts)\n",
    "# - retries (limit / config\n",
    "# - GPT Scenarios (e.g. multi-prompt)\n",
    "    # - temporary results"
   ],
   "metadata": {
    "collapsed": false
   },
   "id": "f3ad90969c49439a"
  },
  {
   "cell_type": "code",
   "execution_count": null,
   "outputs": [],
   "source": [
    "# Narrative 2:\n",
    "# Admin, configs"
   ],
   "metadata": {
    "collapsed": false
   },
   "id": "f0e3c16385bca406"
  },
  {
   "cell_type": "code",
   "execution_count": null,
   "outputs": [],
   "source": [
    "# Narrative 3: Archivist Bot\n",
    "# - Notion simple\n",
    "# - Notion complex"
   ],
   "metadata": {
    "collapsed": false
   },
   "id": "56cf7a5f8a2aa143"
  },
  {
   "cell_type": "code",
   "execution_count": null,
   "outputs": [],
   "source": [
    "# Narrative 4: GPT coordinator\n",
    "# - chat about anything\n",
    "# - run Bot commands with GPT"
   ],
   "metadata": {
    "collapsed": false
   },
   "id": "77f316c6d379c228"
  },
  {
   "cell_type": "code",
   "execution_count": null,
   "outputs": [],
   "source": [
    "# Narrative 5:"
   ],
   "metadata": {
    "collapsed": false
   },
   "id": "212d21fb3adc742f"
  },
  {
   "cell_type": "code",
   "execution_count": null,
   "outputs": [],
   "source": [],
   "metadata": {
    "collapsed": false
   },
   "id": "afcbb0be74b74856"
  }
 ],
 "metadata": {
  "kernelspec": {
   "display_name": "Python 3",
   "language": "python",
   "name": "python3"
  },
  "language_info": {
   "codemirror_mode": {
    "name": "ipython",
    "version": 2
   },
   "file_extension": ".py",
   "mimetype": "text/x-python",
   "name": "python",
   "nbconvert_exporter": "python",
   "pygments_lexer": "ipython2",
   "version": "2.7.6"
  }
 },
 "nbformat": 4,
 "nbformat_minor": 5
}
